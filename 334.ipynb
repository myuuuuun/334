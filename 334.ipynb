{
 "metadata": {
  "name": "",
  "signature": "sha256:4ce0f3cf09c8bf34cc977ee7678588042f197705889889950965e6efbf12b215"
 },
 "nbformat": 3,
 "nbformat_minor": 0,
 "worksheets": [
  {
   "cells": [
    {
     "cell_type": "code",
     "collapsed": false,
     "input": [
      "# -*- coding: utf-8 -*-\n",
      "import math\n",
      "import random\n",
      "import sys\n",
      "sys.setrecursionlimit(10000)\n",
      "\n",
      "\n",
      "def Nandeya(n, flag_3, flag_33):\n",
      "    v = random.randint(1,6)\n",
      "\n",
      "    if flag_33:\n",
      "        if v == 4:\n",
      "            return n\n",
      "        elif v == 3:\n",
      "            return Nandeya(n+1, False, True)\n",
      "        return Nandeya(n+1, True, False)\n",
      "    \n",
      "    if flag_3:\n",
      "        if v == 3:\n",
      "            return Nandeya(n+1, False, True)\n",
      "        return Nandeya(n+1, False, False)\n",
      "\n",
      "    if v == 3:\n",
      "        return Nandeya(n+1, True, False)\n",
      "\n",
      "    return Nandeya(n+1, False, False)\n",
      "\n",
      "\n",
      "if __name__ == \"__main__\":\n",
      "\n",
      "    for i in range(10):\n",
      "\n",
      "        list = [0 for x in range(1000)]\n",
      "        for i in range(len(list)):\n",
      "            try:\n",
      "                list[i] = Nandeya(1, False, False)\n",
      "\n",
      "            except RuntimeError:\n",
      "                print \"{0}\u56de\u76ee\u306bRuntimeError\u767a\u751f\".format(i+1)\n",
      "                list[i] = Nandeya(1, False, False)\n",
      "        #print list\n",
      "        print sum(list)/len(list)"
     ],
     "language": "python",
     "metadata": {},
     "outputs": [
      {
       "output_type": "stream",
       "stream": "stdout",
       "text": [
        "183\n",
        "185"
       ]
      },
      {
       "output_type": "stream",
       "stream": "stdout",
       "text": [
        "\n",
        "182"
       ]
      },
      {
       "output_type": "stream",
       "stream": "stdout",
       "text": [
        "\n",
        "191"
       ]
      },
      {
       "output_type": "stream",
       "stream": "stdout",
       "text": [
        "\n",
        "183"
       ]
      },
      {
       "output_type": "stream",
       "stream": "stdout",
       "text": [
        "\n",
        "202"
       ]
      },
      {
       "output_type": "stream",
       "stream": "stdout",
       "text": [
        "\n",
        "197"
       ]
      },
      {
       "output_type": "stream",
       "stream": "stdout",
       "text": [
        "\n",
        "195"
       ]
      },
      {
       "output_type": "stream",
       "stream": "stdout",
       "text": [
        "\n",
        "190"
       ]
      },
      {
       "output_type": "stream",
       "stream": "stdout",
       "text": [
        "\n",
        "194"
       ]
      },
      {
       "output_type": "stream",
       "stream": "stdout",
       "text": [
        "\n"
       ]
      }
     ],
     "prompt_number": 1
    },
    {
     "cell_type": "code",
     "collapsed": false,
     "input": [],
     "language": "python",
     "metadata": {},
     "outputs": []
    }
   ],
   "metadata": {}
  }
 ]
}